{
 "cells": [
  {
   "cell_type": "markdown",
   "metadata": {},
   "source": [
    "# Recursive Feature Elimination with tree based methods\n",
    "\n",
    "In this Notebook various methods utilizing ensembles of decision trees are utilized to select most informative features. All these methods construct ensemble of trees in a different manner. These methods are Random Forests, Extremely Randomized Trees, Gradient Boosting and Adaptive Boosting ensemble methods utilizing Decision Trees."
   ]
  },
  {
   "cell_type": "markdown",
   "metadata": {},
   "source": [
    "## Importing the necessary libraries\n"
   ]
  },
  {
   "cell_type": "code",
   "execution_count": 1,
   "metadata": {},
   "outputs": [],
   "source": [
    "import pandas as pd\n",
    "import numpy as np\n",
    "\n",
    "import matplotlib.pyplot as plt\n",
    "import seaborn as sns\n",
    "%matplotlib inline\n",
    "\n",
    "import pylab \n",
    "import scipy.stats as stats\n",
    "import time\n",
    "import sklearn.ensemble\n",
    "from sklearn.model_selection import train_test_split\n",
    "from sklearn.metrics import accuracy_score\n",
    "from sklearn.metrics import confusion_matrix\n",
    "from sklearn.metrics import f1_score\n",
    "\n",
    "from sklearn.linear_model import LogisticRegression\n",
    "from sklearn.ensemble import RandomForestClassifier\n",
    "from sklearn.ensemble import ExtraTreesClassifier\n",
    "from sklearn.ensemble import GradientBoostingClassifier\n",
    "from sklearn.ensemble import AdaBoostClassifier\n",
    "from sklearn.tree import DecisionTreeClassifier\n",
    "from sklearn.svm import SVC\n",
    "\n",
    "from sklearn.metrics import roc_auc_score\n",
    "\n",
    "from sklearn.pipeline import Pipeline\n",
    "\n",
    "from sklearn.impute import SimpleImputer\n",
    "from sklearn.model_selection import GridSearchCV\n",
    "\n",
    "from sklearn.preprocessing import StandardScaler, MinMaxScaler, RobustScaler\n",
    "\n",
    "from sklearn.svm import LinearSVC\n",
    "\n",
    "from sklearn.feature_selection import RFE\n",
    "\n",
    "from sklearn.datasets import make_moons, make_circles, make_classification\n",
    "\n",
    "import collections\n",
    "\n",
    "import winsound\n",
    "frequency = 2500  # Set Frequency To 2500 Hertz\n",
    "duration = 1000  # Set Duration To 1000 ms == 1 second"
   ]
  },
  {
   "cell_type": "markdown",
   "metadata": {},
   "source": [
    "## Producing the Synthetic Data\n",
    "In this example, total number of features are 100 and only 2 of them are useful and 20 of them are redundant. There are three classes and 71 samples. "
   ]
  },
  {
   "cell_type": "code",
   "execution_count": 2,
   "metadata": {},
   "outputs": [],
   "source": [
    "X, y = make_classification(n_samples=71, n_classes=3, n_features=100, n_redundant=0, n_informative=3, n_clusters_per_class=1, shuffle=False,random_state=78)"
   ]
  },
  {
   "cell_type": "markdown",
   "metadata": {},
   "source": [
    "## Number of Selected Features\n",
    "In below, we determine the number of features selected recursively by Recursive Feature Elimination (RFE) method. In this example, we choose it to be 1, namely the most informative feature. "
   ]
  },
  {
   "cell_type": "code",
   "execution_count": 3,
   "metadata": {},
   "outputs": [],
   "source": [
    "#Change number of selected features\n",
    "number_of_selected_features = 1"
   ]
  },
  {
   "cell_type": "markdown",
   "metadata": {},
   "source": [
    "## Missing Values\n",
    "These classes are defined for handling missing data. In this synthetic data there is no missing values but if your dataset includes missing values,\n",
    "first you should use missing data imputation methods in order to utilize the methods executed here."
   ]
  },
  {
   "cell_type": "code",
   "execution_count": 4,
   "metadata": {},
   "outputs": [],
   "source": [
    "imputer1 = SimpleImputer(missing_values=np.nan, strategy='median')\n",
    "imputer2 = SimpleImputer(missing_values=np.nan, strategy='constant', fill_value=0)"
   ]
  },
  {
   "cell_type": "markdown",
   "metadata": {},
   "source": [
    "## Defining Feature Selection Algorithms\n",
    "Here the algorithms utilizied in Recursive Feature Elimination Method (RFE) are defined. In this example, number of base learners are 100 for all the methods. They all utilize randomness in a different way in order to train subsamples with subspaces of feature set utilizing decision tree subsamples.\n",
    "\n"
   ]
  },
  {
   "cell_type": "code",
   "execution_count": 5,
   "metadata": {},
   "outputs": [],
   "source": [
    "#Feature Selection Algorithms\n",
    "fs1 = RFE(RandomForestClassifier(n_estimators=100), n_features_to_select=number_of_selected_features, verbose=0)\n",
    "fs2 = RFE(ExtraTreesClassifier(n_estimators=100, bootstrap=True), n_features_to_select=number_of_selected_features, verbose=0)\n",
    "fs3 = RFE(GradientBoostingClassifier(n_estimators=100, max_features='auto', subsample=0.7), n_features_to_select=number_of_selected_features, verbose=0)\n",
    "fs4 = RFE(AdaBoostClassifier(base_estimator=DecisionTreeClassifier(), n_estimators=100), n_features_to_select=number_of_selected_features, verbose=0)\n",
    "#Add more feature selection options\n",
    "\n",
    "\n",
    "\n"
   ]
  },
  {
   "cell_type": "markdown",
   "metadata": {},
   "source": [
    "## Constructing Pipelines\n",
    "Pipelines are very useful, especially when cross validation will be performed. Because this allows different operations such as missing value imputation, normalization and classification model construction to be performed in a proper way. In this case there is no cross validation procedure but we use pipelines here to easily construct procedures we want.     "
   ]
  },
  {
   "cell_type": "code",
   "execution_count": 6,
   "metadata": {},
   "outputs": [],
   "source": [
    "#Pipelines\n",
    "\n",
    "pipe1 = Pipeline([('imputer', imputer1),\n",
    "                 ('fs', fs1)])\n",
    "\n",
    "pipe2 = Pipeline([('imputer', imputer2), \n",
    "                 ('fs', fs1)])\n",
    "\n",
    "\n",
    "pipe3 = Pipeline([('imputer', imputer1),\n",
    "                 ('fs', fs2)])\n",
    "\n",
    "\n",
    "pipe4 = Pipeline([('imputer', imputer2),\n",
    "                 ('fs', fs2)])\n",
    "\n",
    "\n",
    "pipe5 = Pipeline([('imputer', imputer1),\n",
    "                 ('fs', fs3)])\n",
    "\n",
    "\n",
    "pipe6 = Pipeline([('imputer', imputer2),\n",
    "                 ('fs', fs3)])\n",
    "\n",
    "\n",
    "\n",
    "pipe7 = Pipeline([('imputer', imputer1),\n",
    "                 ('fs', fs4)])\n",
    "\n",
    "\n",
    "pipe8 = Pipeline([('imputer', imputer2),\n",
    "                 ('fs', fs4)])\n",
    "\n",
    "#Add more pipelines\n",
    "\n"
   ]
  },
  {
   "cell_type": "markdown",
   "metadata": {},
   "source": [
    "## Determining Which Pipelines will Be Executed\n",
    "Here you can include or exclude defined pipelines in a flexible way. If you define more pipelines, do not forget to include your pipelines in pipelist.  "
   ]
  },
  {
   "cell_type": "code",
   "execution_count": 7,
   "metadata": {},
   "outputs": [],
   "source": [
    "pipelist = [pipe1, pipe2, pipe3, pipe4, pipe5, pipe6, pipe7, pipe8] #Include your pipelines in this list"
   ]
  },
  {
   "cell_type": "markdown",
   "metadata": {},
   "source": [
    "## Estimating The Computation Time\n",
    "Here, all the pipelines are executed once in order to approximately calculate the total time neccessary for running the code in the next cell. Each pipeline will be executed number_of_iteration times with randomly selected subsamples. "
   ]
  },
  {
   "cell_type": "code",
   "execution_count": 8,
   "metadata": {},
   "outputs": [],
   "source": [
    "number_of_iteration = 100"
   ]
  },
  {
   "cell_type": "code",
   "execution_count": 9,
   "metadata": {},
   "outputs": [
    {
     "name": "stdout",
     "output_type": "stream",
     "text": [
      "Computation Time: 115.41306376457214\n",
      "Estimated Time: 192.3551062742869 min or 3.205918437904782 h\n"
     ]
    }
   ],
   "source": [
    "start = time.time()\n",
    "for pipe in pipelist:\n",
    "    pipe = pipe.fit(X, y)\n",
    "    training_pred = pipe.predict(X)\n",
    "\n",
    "end = time.time()\n",
    "print('Computation Time:',end - start)\n",
    "\n",
    "\n",
    "Estimated_Time = ((end - start)*number_of_iteration)\n",
    "print('Estimated Time:',Estimated_Time/60,'min','or',Estimated_Time/3600,'h')\n"
   ]
  },
  {
   "cell_type": "code",
   "execution_count": 10,
   "metadata": {},
   "outputs": [
    {
     "name": "stdout",
     "output_type": "stream",
     "text": [
      "Program start to run at time.struct_time(tm_year=2019, tm_mon=4, tm_mday=15, tm_hour=11, tm_min=7, tm_sec=11, tm_wday=0, tm_yday=105, tm_isdst=1)\n",
      "Most Common Selected Features: <bound method Counter.most_common of Counter({(0,): 51, (1,): 25, (2,): 24})>\n",
      "Most Common Selected Features: <bound method Counter.most_common of Counter({(0,): 58, (1,): 30, (2,): 12})>\n",
      "Most Common Selected Features: <bound method Counter.most_common of Counter({(0,): 72, (1,): 22, (2,): 6})>\n",
      "Most Common Selected Features: <bound method Counter.most_common of Counter({(0,): 65, (1,): 27, (2,): 8})>\n",
      "Most Common Selected Features: <bound method Counter.most_common of Counter({(0,): 65, (2,): 22, (1,): 13})>\n",
      "Most Common Selected Features: <bound method Counter.most_common of Counter({(0,): 70, (2,): 17, (1,): 13})>\n",
      "Most Common Selected Features: <bound method Counter.most_common of Counter({(2,): 50, (0,): 38, (1,): 12})>\n",
      "Most Common Selected Features: <bound method Counter.most_common of Counter({(0,): 44, (2,): 44, (1,): 12})>\n",
      "Total Selected Features in all methods: <bound method Counter.most_common of Counter({(0,): 463, (2,): 183, (1,): 154})>\n",
      "Computation Time: 179.2138916571935 min\n"
     ]
    }
   ],
   "source": [
    "start = time.time()\n",
    "print('Program start to run at',time.localtime())\n",
    "counter_collections=collections.Counter()\n",
    "\n",
    "for pipe in pipelist:\n",
    "    \n",
    "    \n",
    "    selectedfeatures=[]\n",
    "    \n",
    "    \n",
    "    for i in range(number_of_iteration):\n",
    "\n",
    "        X_train, X_test, y_train, y_test = train_test_split(X, y, test_size=0.2)\n",
    "\n",
    "\n",
    "        # run pipeline\n",
    "        pipe = pipe.fit(X_train, y_train)\n",
    "        selectedfeatures.append(tuple(pipe.steps[1][1].get_support(indices=True)))          #for RF-RFE\n",
    "\n",
    "\n",
    "\n",
    "\n",
    "    counter=collections.Counter(selectedfeatures)\n",
    "    counter_collections = counter_collections + counter\n",
    "    \n",
    "    print('Most Common Selected Features:',np.array(counter.most_common))    #change according to number of selected features\n",
    "\n",
    "\n",
    "print('Total Selected Features in all methods:',np.array(counter_collections.most_common))\n",
    "\n",
    "end = time.time()\n",
    "print('Computation Time:',(end - start)/60,'min')\n",
    "winsound.Beep(frequency, duration)"
   ]
  },
  {
   "cell_type": "code",
   "execution_count": 11,
   "metadata": {},
   "outputs": [],
   "source": [
    "X=pd.DataFrame(X)\n",
    "y=pd.DataFrame(y)"
   ]
  },
  {
   "cell_type": "code",
   "execution_count": 12,
   "metadata": {},
   "outputs": [],
   "source": [
    "features = X.iloc[:,[0,2,1]]"
   ]
  },
  {
   "cell_type": "markdown",
   "metadata": {},
   "source": [
    "## Visualization"
   ]
  },
  {
   "cell_type": "markdown",
   "metadata": {},
   "source": [
    "### Visualize selected features with response variable in scatter plot by inserting index value of it"
   ]
  },
  {
   "cell_type": "code",
   "execution_count": 13,
   "metadata": {},
   "outputs": [
    {
     "data": {
      "image/png": "[encoded data removed]",
      "text/plain": [
       "<Figure size 432x288 with 1 Axes>"
      ]
     },
     "metadata": {
      "needs_background": "light"
     },
     "output_type": "display_data"
    }
   ],
   "source": [
    "plt.scatter(X.iloc[:,[0]], y, s=30, c=y, alpha=0.5)\n",
    "plt.show()"
   ]
  },
  {
   "cell_type": "markdown",
   "metadata": {},
   "source": [
    "### Visualize selected features in scatter plot by inserting index values of them"
   ]
  },
  {
   "cell_type": "code",
   "execution_count": 14,
   "metadata": {},
   "outputs": [
    {
     "data": {
      "image/png": "[encoded data removed]",
      "text/plain": [
       "<Figure size 432x288 with 1 Axes>"
      ]
     },
     "metadata": {
      "needs_background": "light"
     },
     "output_type": "display_data"
    }
   ],
   "source": [
    "plt.scatter(X.iloc[:,[0]], X.iloc[:,[1]], s=30, c=y, alpha=0.5)\n",
    "plt.show()"
   ]
  },
  {
   "cell_type": "markdown",
   "metadata": {},
   "source": [
    "### Visualizing Correlation of the selected features"
   ]
  },
  {
   "cell_type": "code",
   "execution_count": 15,
   "metadata": {},
   "outputs": [
    {
     "data": {
      "image/png": "[encoded data removed]",
      "text/plain": [
       "<Figure size 432x288 with 2 Axes>"
      ]
     },
     "metadata": {
      "needs_background": "light"
     },
     "output_type": "display_data"
    }
   ],
   "source": [
    "data = features\n",
    "corr = data.corr()\n",
    "fig = plt.figure()\n",
    "ax = fig.add_subplot(111)\n",
    "cax = ax.matshow(corr,cmap='coolwarm', vmin=-1, vmax=1)\n",
    "fig.colorbar(cax)\n",
    "ticks = np.arange(0,len(data.columns),1)\n",
    "ax.set_xticks(ticks)\n",
    "plt.xticks(rotation=90)\n",
    "ax.set_yticks(ticks)\n",
    "ax.set_xticklabels(data.columns)\n",
    "ax.set_yticklabels(data.columns)\n",
    "plt.show()"
   ]
  },
  {
   "cell_type": "code",
   "execution_count": 16,
   "metadata": {},
   "outputs": [
    {
     "data": {
      "text/html": [
       "<div>\n",
       "<style scoped>\n",
       "    .dataframe tbody tr th:only-of-type {\n",
       "        vertical-align: middle;\n",
       "    }\n",
       "\n",
       "    .dataframe tbody tr th {\n",
       "        vertical-align: top;\n",
       "    }\n",
       "\n",
       "    .dataframe thead th {\n",
       "        text-align: right;\n",
       "    }\n",
       "</style>\n",
       "<table border=\"1\" class=\"dataframe\">\n",
       "  <thead>\n",
       "    <tr style=\"text-align: right;\">\n",
       "      <th></th>\n",
       "      <th>0</th>\n",
       "      <th>2</th>\n",
       "      <th>1</th>\n",
       "    </tr>\n",
       "  </thead>\n",
       "  <tbody>\n",
       "    <tr>\n",
       "      <th>0</th>\n",
       "      <td>1.000000</td>\n",
       "      <td>-0.234048</td>\n",
       "      <td>-0.412248</td>\n",
       "    </tr>\n",
       "    <tr>\n",
       "      <th>2</th>\n",
       "      <td>-0.234048</td>\n",
       "      <td>1.000000</td>\n",
       "      <td>0.446707</td>\n",
       "    </tr>\n",
       "    <tr>\n",
       "      <th>1</th>\n",
       "      <td>-0.412248</td>\n",
       "      <td>0.446707</td>\n",
       "      <td>1.000000</td>\n",
       "    </tr>\n",
       "  </tbody>\n",
       "</table>\n",
       "</div>"
      ],
      "text/plain": [
       "          0         2         1\n",
       "0  1.000000 -0.234048 -0.412248\n",
       "2 -0.234048  1.000000  0.446707\n",
       "1 -0.412248  0.446707  1.000000"
      ]
     },
     "execution_count": 16,
     "metadata": {},
     "output_type": "execute_result"
    }
   ],
   "source": [
    "corr"
   ]
  },
  {
   "cell_type": "code",
   "execution_count": null,
   "metadata": {},
   "outputs": [],
   "source": []
  }
 ],
 "metadata": {
  "kernelspec": {
   "display_name": "Python 3",
   "language": "python",
   "name": "python3"
  },
  "language_info": {
   "codemirror_mode": {
    "name": "ipython",
    "version": 3
   },
   "file_extension": ".py",
   "mimetype": "text/x-python",
   "name": "python",
   "nbconvert_exporter": "python",
   "pygments_lexer": "ipython3",
   "version": "3.7.0"
  }
 },
 "nbformat": 4,
 "nbformat_minor": 2
}
