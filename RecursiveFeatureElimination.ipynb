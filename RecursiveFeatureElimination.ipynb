{
 "cells": [
  {
   "cell_type": "code",
   "execution_count": null,
   "metadata": {},
   "outputs": [],
   "source": [
    "import pandas as pd\n",
    "import numpy as np\n",
    "\n",
    "import matplotlib.pyplot as plt\n",
    "import seaborn as sns\n",
    "%matplotlib inline\n",
    "\n",
    "import pylab \n",
    "import scipy.stats as stats\n",
    "import time\n",
    "from sklearn.model_selection import train_test_split\n",
    "from sklearn.metrics import accuracy_score\n",
    "from sklearn.metrics import confusion_matrix\n",
    "from sklearn.metrics import f1_score\n",
    "\n",
    "from sklearn.linear_model import LogisticRegression\n",
    "from sklearn.ensemble import RandomForestClassifier\n",
    "from sklearn.ensemble import ExtraTreesClassifier\n",
    "from sklearn.svm import SVC\n",
    "\n",
    "from sklearn.metrics import roc_auc_score\n",
    "\n",
    "from sklearn.pipeline import Pipeline\n",
    "\n",
    "from sklearn.impute import SimpleImputer\n",
    "from sklearn.model_selection import GridSearchCV\n",
    "\n",
    "from sklearn.preprocessing import StandardScaler, MinMaxScaler, RobustScaler\n",
    "\n",
    "from sklearn.svm import LinearSVC\n",
    "\n",
    "from sklearn.feature_selection import RFE\n",
    "\n",
    "import collections\n",
    "\n",
    "import winsound\n",
    "frequency = 2500  # Set Frequency To 2500 Hertz\n",
    "duration = 1000  # Set Duration To 1000 ms == 1 second"
   ]
  },
  {
   "cell_type": "code",
   "execution_count": null,
   "metadata": {},
   "outputs": [],
   "source": [
    "cd C:\\Users\\DELL003\\Desktop"
   ]
  },
  {
   "cell_type": "code",
   "execution_count": null,
   "metadata": {},
   "outputs": [],
   "source": [
    "data = pd.read_excel('Book1.xlsx', sheet_name = 'ALL_median')\n",
    "data.shape"
   ]
  },
  {
   "cell_type": "code",
   "execution_count": null,
   "metadata": {},
   "outputs": [],
   "source": [
    "# In practice, feature selection should be done after data pre-processing,\n",
    "# so ideally, all the categorical variables are encoded into numbers,\n",
    "# and then you can assess how deterministic they are of the target\n",
    "\n",
    "# here for simplicity I will use only numerical variables\n",
    "# select numerical columns:\n",
    "\n",
    "numerics = ['int16', 'int32', 'int64', 'float16', 'float32', 'float64']\n",
    "numerical_vars = list(data.select_dtypes(include=numerics).columns)\n",
    "data = data[numerical_vars]\n",
    "data.shape"
   ]
  },
  {
   "cell_type": "code",
   "execution_count": null,
   "metadata": {},
   "outputs": [],
   "source": [
    "#Dropping NA\n",
    "data = data.dropna(axis = 1, thresh = round((0.8)*data.shape[0])) #removing features existing in less than 0.2 of the samples \n",
    "data = data.dropna(axis = 0, thresh = round((0.5)*data.shape[1])) #removing samples having features less than half of the total features \n",
    "#data = data.fillna(0) #filling missing values with zeroes\n",
    "print(data.shape)"
   ]
  },
  {
   "cell_type": "code",
   "execution_count": null,
   "metadata": {},
   "outputs": [],
   "source": [
    "#Change number of selected features\n",
    "number_of_selected_features = 2"
   ]
  },
  {
   "cell_type": "code",
   "execution_count": null,
   "metadata": {},
   "outputs": [],
   "source": [
    "imputer1 = SimpleImputer(missing_values=np.nan, strategy='median')\n",
    "imputer2 = SimpleImputer(missing_values=np.nan, strategy='constant', fill_value=0)"
   ]
  },
  {
   "cell_type": "code",
   "execution_count": null,
   "metadata": {},
   "outputs": [],
   "source": [
    "#Feature Selection Algorithms\n",
    "fs1 = RFE(RandomForestClassifier(n_estimators=100), n_features_to_select=number_of_selected_features, verbose=2)\n",
    "fs2 = RFE(ExtraTreesClassifier(n_estimators=100), n_features_to_select=number_of_selected_features, verbose=2)\n",
    "\n",
    "#Add more feature selection options\n",
    "\n",
    "\n",
    "\n"
   ]
  },
  {
   "cell_type": "code",
   "execution_count": null,
   "metadata": {},
   "outputs": [],
   "source": [
    "#Pipelines\n",
    "\n",
    "pipe1 = Pipeline([('imputer', imputer1), ('scaler', StandardScaler()),\n",
    "                 ('fs', fs1)])\n",
    "\n",
    "pipe2 = Pipeline([('imputer', imputer1), ('scaler', StandardScaler()),\n",
    "                 ('fs', fs2)])\n",
    "\n",
    "\n",
    "pipe3 = Pipeline([('imputer', imputer2), ('scaler', StandardScaler()),\n",
    "                 ('fs', fs1)])\n",
    "\n",
    "#Add more pipelines\n",
    "\n"
   ]
  },
  {
   "cell_type": "code",
   "execution_count": null,
   "metadata": {},
   "outputs": [],
   "source": [
    "gslist = [pipe1, pipe2, pipe3]"
   ]
  },
  {
   "cell_type": "code",
   "execution_count": null,
   "metadata": {},
   "outputs": [],
   "source": [
    "# Checking training set model performance for detecting underfitting\n",
    "start = time.time()\n",
    "for gs in gslist:\n",
    "    gs = gs.fit(np.array(data.drop(labels=['grup'], axis=1)), data['grup'])\n",
    "    training_pred = gs.predict(np.array(data.drop(labels=['grup'], axis=1)))\n",
    "    print(confusion_matrix(data['grup'],training_pred))\n",
    "\n",
    "end = time.time()\n",
    "print('Computation Time:',end - start)\n",
    "winsound.Beep(frequency, duration)"
   ]
  },
  {
   "cell_type": "code",
   "execution_count": null,
   "metadata": {},
   "outputs": [],
   "source": [
    "Estimated_Time = ((end - start)*100)\n",
    "print('Estimated Time:',Estimated_Time/60,'min','or',Estimated_Time/3600,'h')"
   ]
  },
  {
   "cell_type": "code",
   "execution_count": null,
   "metadata": {},
   "outputs": [],
   "source": [
    "start = time.time()\n",
    "print('Program start to run at',time.localtime())\n",
    "\n",
    "for gs in gslist:\n",
    "    \n",
    "    pred=[]\n",
    "    response=[]\n",
    "    selectedfeatures=[]\n",
    "\n",
    "    for i in range(100):\n",
    "\n",
    "        X_train, X_test, y_train, y_test = train_test_split(np.array(data.drop(labels=['grup'], axis=1)), data['grup'], test_size=0.2)\n",
    "\n",
    "\n",
    "        # run grid search\n",
    "        gs = gs.fit(np.array(X_train), y_train)\n",
    "        selectedfeatures.append(tuple(gs.steps[2][1].get_support(indices=True)))          #for RF-RFE\n",
    "\n",
    "\n",
    "\n",
    "\n",
    "    counter=collections.Counter(selectedfeatures)\n",
    "\n",
    "    print('Most Common Selected Features:',np.array(counter.most_common))    #change according to number of selected features\n",
    "\n",
    "\n",
    "\n",
    "\n",
    "end = time.time()\n",
    "print('Computation Time:',(end - start)/60,'min')\n",
    "winsound.Beep(frequency, duration)"
   ]
  },
  {
   "cell_type": "code",
   "execution_count": null,
   "metadata": {},
   "outputs": [],
   "source": [
    "df = data.drop(labels=['grup'], axis=1).iloc[:,[148, 197]]\n",
    "df.columns"
   ]
  },
  {
   "cell_type": "code",
   "execution_count": null,
   "metadata": {},
   "outputs": [],
   "source": [
    "plt.scatter(data.drop(labels=['grup'], axis=1).iloc[:,[151]], data.drop(labels=['grup'], axis=1).iloc[:,[367]], c=np.reshape(np.array(data['grup']), (-1, 1)), s=30, alpha=0.5)\n",
    "plt.show()"
   ]
  },
  {
   "cell_type": "code",
   "execution_count": null,
   "metadata": {},
   "outputs": [],
   "source": [
    "plt.scatter(data.drop(labels=['grup'], axis=1).iloc[:,[3]], data['grup'], s=30, c=np.reshape(np.array(data['grup']), (-1, 1)), alpha=0.5)\n",
    "plt.show()"
   ]
  },
  {
   "cell_type": "code",
   "execution_count": null,
   "metadata": {},
   "outputs": [],
   "source": [
    "features = data.drop(labels=['grup'], axis=1).iloc[:,[151,367,37,219,200,404,87,419,331,323,272,21,288,125]]\n",
    "corr = features.corr()\n",
    "fig = plt.figure()\n",
    "ax = fig.add_subplot(111)\n",
    "cax = ax.matshow(corr,cmap='coolwarm', vmin=-1, vmax=1)\n",
    "fig.colorbar(cax)\n",
    "ticks = np.arange(0,len(features.columns),1)\n",
    "ax.set_xticks(ticks)\n",
    "plt.xticks(rotation=90)\n",
    "ax.set_yticks(ticks)\n",
    "ax.set_xticklabels(features.columns)\n",
    "ax.set_yticklabels(features.columns)\n",
    "plt.show()"
   ]
  },
  {
   "cell_type": "code",
   "execution_count": null,
   "metadata": {},
   "outputs": [],
   "source": [
    "corr"
   ]
  },
  {
   "cell_type": "code",
   "execution_count": null,
   "metadata": {},
   "outputs": [],
   "source": []
  }
 ],
 "metadata": {
  "kernelspec": {
   "display_name": "Python 3",
   "language": "python",
   "name": "python3"
  },
  "language_info": {
   "codemirror_mode": {
    "name": "ipython",
    "version": 3
   },
   "file_extension": ".py",
   "mimetype": "text/x-python",
   "name": "python",
   "nbconvert_exporter": "python",
   "pygments_lexer": "ipython3",
   "version": "3.7.0"
  }
 },
 "nbformat": 4,
 "nbformat_minor": 2
}
